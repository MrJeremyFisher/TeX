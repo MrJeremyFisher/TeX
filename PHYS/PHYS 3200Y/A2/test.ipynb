{
 "cells": [
  {
   "cell_type": "code",
   "execution_count": 1,
   "id": "4d047c3f",
   "metadata": {},
   "outputs": [
    {
     "data": {
      "text/html": [
       "<html>\\(\\displaystyle -\\sqrt{2} h x + h^{2} + x^{2}\\)</html>"
      ],
      "text/latex": [
       "$\\displaystyle -\\sqrt{2} h x + h^{2} + x^{2}$"
      ],
      "text/plain": [
       "-sqrt(2)*h*x + h^2 + x^2"
      ]
     },
     "metadata": {},
     "output_type": "display_data"
    }
   ],
   "source": [
    "x, h = var('x h')\n",
    "\n",
    "expr = x^2-(2*h/sqrt(2))*x+h^2\n",
    "\n",
    "show(expr.full_simplify())"
   ]
  }
 ],
 "metadata": {
  "kernelspec": {
   "display_name": "SageMath 10.7",
   "language": "sage",
   "name": "sagemath-dev"
  },
  "language_info": {
   "codemirror_mode": {
    "name": "ipython",
    "version": 3
   },
   "file_extension": ".py",
   "mimetype": "text/x-python",
   "name": "python",
   "nbconvert_exporter": "python",
   "pygments_lexer": "ipython3",
   "version": "3.12.3"
  }
 },
 "nbformat": 4,
 "nbformat_minor": 5
}
