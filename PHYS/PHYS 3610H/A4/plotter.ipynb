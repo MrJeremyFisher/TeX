{
 "cells": [
  {
   "cell_type": "code",
   "execution_count": 32,
   "id": "c0f4514e",
   "metadata": {},
   "outputs": [
    {
     "data": {
      "text/html": [
       "<html>\\(\\displaystyle \\left(2.5957390796498125, 4.27342235572148\\right)\\)</html>"
      ],
      "text/latex": [
       "$\\displaystyle \\left(2.5957390796498125, 4.27342235572148\\right)$"
      ],
      "text/plain": [
       "(2.5957390796498125, 4.27342235572148)"
      ]
     },
     "metadata": {},
     "output_type": "display_data"
    },
    {
     "data": {
      "text/html": [
       "<html>\\(\\displaystyle \\left(4.906295150856183, 0.963466601746654\\right)\\)</html>"
      ],
      "text/latex": [
       "$\\displaystyle \\left(4.906295150856183, 0.963466601746654\\right)$"
      ],
      "text/plain": [
       "(4.906295150856183, 0.963466601746654)"
      ]
     },
     "metadata": {},
     "output_type": "display_data"
    }
   ],
   "source": [
    "x = var('x')\n",
    "\n",
    "f(x) = - x / tan(x)\n",
    "f1(x) = sqrt(25 - x^2)\n",
    "\n",
    "r1 = find_root(f1-f, 0, 3)\n",
    "r2 = find_root(f1-f, 3, 5)\n",
    "\n",
    "# |\n",
    "show((r1, f(r1)))\n",
    "show((r2, f(r2)))"
   ]
  }
 ],
 "metadata": {
  "kernelspec": {
   "display_name": "SageMath 10.7",
   "language": "sage",
   "name": "sagemath-dev"
  },
  "language_info": {
   "codemirror_mode": {
    "name": "ipython",
    "version": 3
   },
   "file_extension": ".py",
   "mimetype": "text/x-python",
   "name": "python",
   "nbconvert_exporter": "python",
   "pygments_lexer": "ipython3",
   "version": "3.12.3"
  }
 },
 "nbformat": 4,
 "nbformat_minor": 5
}
