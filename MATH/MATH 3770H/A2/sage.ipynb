{
 "cells": [
  {
   "cell_type": "code",
   "execution_count": null,
   "id": "b26474ab",
   "metadata": {
    "vscode": {
     "languageId": "python"
    }
   },
   "outputs": [
    {
     "data": {
      "text/html": [
       "<html>\\(\\displaystyle -\\sqrt{2} a x + a^{2} + x^{2}\\)</html>"
      ],
      "text/latex": [
       "$\\displaystyle -\\sqrt{2} a x + a^{2} + x^{2}$"
      ],
      "text/plain": [
       "-sqrt(2)*a*x + a^2 + x^2"
      ]
     },
     "metadata": {},
     "output_type": "display_data"
    }
   ],
   "source": [
    "x, y = var('x y')\n",
    "a = var('a')\n",
    "\n",
    "f(x,y) = x / (x ^ 2 + y ^ 2)\n",
    "f_1(x,y)=-y / (x ^ 2 + y ^ 2)\n",
    "\n",
    "contour_plot(lambda x, y: f(x,y), (x, -1, 1), (y, -1, 1), fill=False)"
   ]
  }
 ],
 "metadata": {
  "kernelspec": {
   "display_name": "SageMath 10.7",
   "language": "sage",
   "name": "sagemath-dev"
  },
  "language_info": {
   "codemirror_mode": {
    "name": "ipython",
    "version": 3
   },
   "file_extension": ".py",
   "mimetype": "text/x-python",
   "name": "sage",
   "nbconvert_exporter": "python",
   "pygments_lexer": "ipython3",
   "version": "3.12.3"
  }
 },
 "nbformat": 4,
 "nbformat_minor": 5
}
