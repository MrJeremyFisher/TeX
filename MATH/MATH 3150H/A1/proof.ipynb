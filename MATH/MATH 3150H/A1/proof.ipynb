{
 "cells": [
  {
   "cell_type": "code",
   "execution_count": 1,
   "id": "0552d5d6",
   "metadata": {},
   "outputs": [
    {
     "data": {
      "text/html": [
       "<html>\\(\\displaystyle {\\left(B^{2} - 4 \\, A C\\right)} η_{y}^{2} ξ_{x}^{2} - 2 \\, {\\left(B^{2} - 4 \\, A C\\right)} η_{x} η_{y} ξ_{x} ξ_{y} + {\\left(B^{2} - 4 \\, A C\\right)} η_{x}^{2} ξ_{y}^{2}\\)</html>"
      ],
      "text/latex": [
       "$\\displaystyle {\\left(B^{2} - 4 \\, A C\\right)} η_{y}^{2} ξ_{x}^{2} - 2 \\, {\\left(B^{2} - 4 \\, A C\\right)} η_{x} η_{y} ξ_{x} ξ_{y} + {\\left(B^{2} - 4 \\, A C\\right)} η_{x}^{2} ξ_{y}^{2}$"
      ],
      "text/plain": [
       "(B^2 - 4*A*C)*η_y^2*ξ_x^2 - 2*(B^2 - 4*A*C)*η_x*η_y*ξ_x*ξ_y + (B^2 - 4*A*C)*η_x^2*ξ_y^2"
      ]
     },
     "metadata": {},
     "output_type": "display_data"
    }
   ],
   "source": [
    "η_x = var('η_x')\n",
    "ξ_y = var('ξ_y')\n",
    "η_y = var('η_y')\n",
    "ξ_x= var('ξ_x')\n",
    "A, B, C = var('A B C')\n",
    "\n",
    "\n",
    "expr = (B * (η_x * ξ_y + η_y * ξ_x) + 2 * C * η_y * ξ_y + 2 * A * η_x * ξ_x)^2 - 4 * (C * η_y^2 + B * η_x * η_y + A * η_x^2) * (C * ξ_y^2 + B * ξ_x * ξ_y + A * ξ_x^2)\n",
    "show(expr.full_simplify())"
   ]
  },
  {
   "cell_type": "code",
   "execution_count": null,
   "id": "d10f4288",
   "metadata": {},
   "outputs": [
    {
     "data": {
      "text/html": [
       "<html>\\(\\displaystyle 8 \\, p q x + e^{\\left(8 \\, r y\\right)}\\)</html>"
      ],
      "text/latex": [
       "$\\displaystyle 8 \\, p q x + e^{\\left(8 \\, r y\\right)}$"
      ],
      "text/plain": [
       "8*p*q*x + e^(8*r*y)"
      ]
     },
     "metadata": {},
     "output_type": "display_data"
    }
   ],
   "source": [
    "x,y,p,q,r = var(\"x y p q r\")\n",
    "\n",
    "f = ((2 * q * e^(9 * r * (y - x)) + p * r * (72 * p * r + q) * (y - 9 * x) * (q * (y - 9 * x) + 16 * p) * e^(r * (y - 9 * x)) - 2 * p * q * r * (72 * p * r + q) * (y - 9 * x) * (y - x) * e^(r * (y - 9 * x))) * e^((q * (y - x) - 8 * p * r * (y - 9 * x)) / (8 * p) - (q * (y - x)) / (8 * p))) / (16 * q * r * (72 * p * r + q))\n",
    "\n",
    "ux = diff(f, x)\n",
    "uxx = diff(ux, x)\n",
    "uy = diff(f, y)\n",
    "uyy = diff(uy, y)\n",
    "uxy = diff(ux, y)\n",
    "\n",
    "PDE = p*uxx+ 10*p*uxy+9*p*uyy+q*ux+q*uy \n",
    "show(PDE.full_simplify())"
   ]
  }
 ],
 "metadata": {
  "kernelspec": {
   "display_name": "SageMath 10.7",
   "language": "sage",
   "name": "sagemath-dev"
  },
  "language_info": {
   "codemirror_mode": {
    "name": "ipython",
    "version": 3
   },
   "file_extension": ".py",
   "mimetype": "text/x-python",
   "name": "python",
   "nbconvert_exporter": "python",
   "pygments_lexer": "ipython3",
   "version": "3.12.3"
  }
 },
 "nbformat": 4,
 "nbformat_minor": 5
}
